{
 "cells": [
  {
   "cell_type": "code",
   "execution_count": 1,
   "id": "constitutional-printing",
   "metadata": {},
   "outputs": [],
   "source": [
    "import numpy as np\n",
    "import pandas as pd\n",
    "import matplotlib.pyplot as plt\n",
    "from sklearn.cluster import KMeans\n",
    "from sklearn import tree\n",
    "from sklearn.preprocessing import OneHotEncoder, StandardScaler\n",
    "from sklearn.model_selection import train_test_split\n",
    "from sklearn import metrics"
   ]
  },
  {
   "cell_type": "code",
   "execution_count": 86,
   "id": "according-determination",
   "metadata": {},
   "outputs": [],
   "source": [
    "db = pd.read_excel('Proyecto.xls')"
   ]
  },
  {
   "cell_type": "code",
   "execution_count": 87,
   "id": "addressed-slide",
   "metadata": {},
   "outputs": [
    {
     "data": {
      "text/html": [
       "<div>\n",
       "<style scoped>\n",
       "    .dataframe tbody tr th:only-of-type {\n",
       "        vertical-align: middle;\n",
       "    }\n",
       "\n",
       "    .dataframe tbody tr th {\n",
       "        vertical-align: top;\n",
       "    }\n",
       "\n",
       "    .dataframe thead th {\n",
       "        text-align: right;\n",
       "    }\n",
       "</style>\n",
       "<table border=\"1\" class=\"dataframe\">\n",
       "  <thead>\n",
       "    <tr style=\"text-align: right;\">\n",
       "      <th></th>\n",
       "      <th>Anio</th>\n",
       "      <th>Matrimonios_Cantidad</th>\n",
       "      <th>Divorcios_Cantidad</th>\n",
       "      <th>Victimas_Cantidad</th>\n",
       "      <th>Victimas_Hombre</th>\n",
       "      <th>Victimas_Mujer</th>\n",
       "      <th>Vic_Urban</th>\n",
       "      <th>Vic_Rural</th>\n",
       "      <th>Vic_Ign</th>\n",
       "      <th>Vic_Solteros</th>\n",
       "      <th>...</th>\n",
       "      <th>Vic_Edu_Ignorado</th>\n",
       "      <th>Vic_Trabaja</th>\n",
       "      <th>Vic_No_Trabaja</th>\n",
       "      <th>Vic_Hijos_0</th>\n",
       "      <th>Vic_Hijos_1</th>\n",
       "      <th>Vic_Hijos_2</th>\n",
       "      <th>Vic_Hijos_3</th>\n",
       "      <th>Vic_Hijos_4</th>\n",
       "      <th>Vic_Hijos_5</th>\n",
       "      <th>Vic_Hijos_6+</th>\n",
       "    </tr>\n",
       "  </thead>\n",
       "  <tbody>\n",
       "    <tr>\n",
       "      <th>0</th>\n",
       "      <td>2008</td>\n",
       "      <td>52.315</td>\n",
       "      <td>2.834</td>\n",
       "      <td>23.721</td>\n",
       "      <td>2.290</td>\n",
       "      <td>21.431</td>\n",
       "      <td>12.988</td>\n",
       "      <td>8.248</td>\n",
       "      <td>2.485</td>\n",
       "      <td>5.470</td>\n",
       "      <td>...</td>\n",
       "      <td>0.454</td>\n",
       "      <td>8.002</td>\n",
       "      <td>15.557</td>\n",
       "      <td>1.927</td>\n",
       "      <td>4.867</td>\n",
       "      <td>4.430</td>\n",
       "      <td>3.488</td>\n",
       "      <td>1.945</td>\n",
       "      <td>1.036</td>\n",
       "      <td>1.422</td>\n",
       "    </tr>\n",
       "    <tr>\n",
       "      <th>1</th>\n",
       "      <td>2009</td>\n",
       "      <td>62.104</td>\n",
       "      <td>3.004</td>\n",
       "      <td>31.497</td>\n",
       "      <td>2.985</td>\n",
       "      <td>28.512</td>\n",
       "      <td>16.539</td>\n",
       "      <td>11.816</td>\n",
       "      <td>3.142</td>\n",
       "      <td>8.144</td>\n",
       "      <td>...</td>\n",
       "      <td>0.557</td>\n",
       "      <td>10.721</td>\n",
       "      <td>20.583</td>\n",
       "      <td>5.392</td>\n",
       "      <td>6.473</td>\n",
       "      <td>5.748</td>\n",
       "      <td>4.597</td>\n",
       "      <td>2.388</td>\n",
       "      <td>1.344</td>\n",
       "      <td>1.787</td>\n",
       "    </tr>\n",
       "    <tr>\n",
       "      <th>2</th>\n",
       "      <td>2010</td>\n",
       "      <td>73.124</td>\n",
       "      <td>3.645</td>\n",
       "      <td>32.017</td>\n",
       "      <td>2.858</td>\n",
       "      <td>29.159</td>\n",
       "      <td>16.427</td>\n",
       "      <td>12.553</td>\n",
       "      <td>3.037</td>\n",
       "      <td>8.918</td>\n",
       "      <td>...</td>\n",
       "      <td>0.515</td>\n",
       "      <td>10.385</td>\n",
       "      <td>21.361</td>\n",
       "      <td>4.877</td>\n",
       "      <td>6.605</td>\n",
       "      <td>6.028</td>\n",
       "      <td>4.405</td>\n",
       "      <td>2.481</td>\n",
       "      <td>1.381</td>\n",
       "      <td>1.651</td>\n",
       "    </tr>\n",
       "    <tr>\n",
       "      <th>3</th>\n",
       "      <td>2011</td>\n",
       "      <td>78.286</td>\n",
       "      <td>4.344</td>\n",
       "      <td>33.484</td>\n",
       "      <td>2.906</td>\n",
       "      <td>30.578</td>\n",
       "      <td>17.672</td>\n",
       "      <td>13.588</td>\n",
       "      <td>2.224</td>\n",
       "      <td>9.441</td>\n",
       "      <td>...</td>\n",
       "      <td>0.692</td>\n",
       "      <td>10.679</td>\n",
       "      <td>22.536</td>\n",
       "      <td>3.392</td>\n",
       "      <td>7.194</td>\n",
       "      <td>6.509</td>\n",
       "      <td>4.764</td>\n",
       "      <td>2.579</td>\n",
       "      <td>1.469</td>\n",
       "      <td>1.764</td>\n",
       "    </tr>\n",
       "    <tr>\n",
       "      <th>4</th>\n",
       "      <td>2012</td>\n",
       "      <td>84.253</td>\n",
       "      <td>5.157</td>\n",
       "      <td>36.107</td>\n",
       "      <td>2.967</td>\n",
       "      <td>33.140</td>\n",
       "      <td>19.237</td>\n",
       "      <td>15.074</td>\n",
       "      <td>1.796</td>\n",
       "      <td>10.725</td>\n",
       "      <td>...</td>\n",
       "      <td>0.623</td>\n",
       "      <td>11.505</td>\n",
       "      <td>24.347</td>\n",
       "      <td>3.229</td>\n",
       "      <td>8.010</td>\n",
       "      <td>7.098</td>\n",
       "      <td>5.102</td>\n",
       "      <td>2.676</td>\n",
       "      <td>1.386</td>\n",
       "      <td>1.727</td>\n",
       "    </tr>\n",
       "    <tr>\n",
       "      <th>5</th>\n",
       "      <td>2013</td>\n",
       "      <td>80.750</td>\n",
       "      <td>5.542</td>\n",
       "      <td>36.170</td>\n",
       "      <td>3.252</td>\n",
       "      <td>32.918</td>\n",
       "      <td>19.365</td>\n",
       "      <td>14.670</td>\n",
       "      <td>2.135</td>\n",
       "      <td>11.658</td>\n",
       "      <td>...</td>\n",
       "      <td>1.102</td>\n",
       "      <td>11.513</td>\n",
       "      <td>24.362</td>\n",
       "      <td>3.362</td>\n",
       "      <td>8.084</td>\n",
       "      <td>7.259</td>\n",
       "      <td>5.071</td>\n",
       "      <td>2.632</td>\n",
       "      <td>1.420</td>\n",
       "      <td>1.578</td>\n",
       "    </tr>\n",
       "    <tr>\n",
       "      <th>6</th>\n",
       "      <td>2014</td>\n",
       "      <td>79.496</td>\n",
       "      <td>5.575</td>\n",
       "      <td>34.330</td>\n",
       "      <td>3.233</td>\n",
       "      <td>31.097</td>\n",
       "      <td>19.164</td>\n",
       "      <td>14.173</td>\n",
       "      <td>993.000</td>\n",
       "      <td>3.151</td>\n",
       "      <td>...</td>\n",
       "      <td>0.857</td>\n",
       "      <td>10.544</td>\n",
       "      <td>23.530</td>\n",
       "      <td>3.147</td>\n",
       "      <td>7.902</td>\n",
       "      <td>7.135</td>\n",
       "      <td>4.988</td>\n",
       "      <td>2.448</td>\n",
       "      <td>1.298</td>\n",
       "      <td>1.456</td>\n",
       "    </tr>\n",
       "    <tr>\n",
       "      <th>7</th>\n",
       "      <td>2015</td>\n",
       "      <td>79.177</td>\n",
       "      <td>5.726</td>\n",
       "      <td>31.929</td>\n",
       "      <td>3.221</td>\n",
       "      <td>28.708</td>\n",
       "      <td>18.451</td>\n",
       "      <td>12.608</td>\n",
       "      <td>870.000</td>\n",
       "      <td>2.883</td>\n",
       "      <td>...</td>\n",
       "      <td>0.841</td>\n",
       "      <td>10.307</td>\n",
       "      <td>21.405</td>\n",
       "      <td>3.535</td>\n",
       "      <td>7.562</td>\n",
       "      <td>6.819</td>\n",
       "      <td>4.536</td>\n",
       "      <td>2.091</td>\n",
       "      <td>1.209</td>\n",
       "      <td>1.361</td>\n",
       "    </tr>\n",
       "    <tr>\n",
       "      <th>8</th>\n",
       "      <td>2016</td>\n",
       "      <td>69.613</td>\n",
       "      <td>5.665</td>\n",
       "      <td>31.190</td>\n",
       "      <td>3.295</td>\n",
       "      <td>27.895</td>\n",
       "      <td>17.668</td>\n",
       "      <td>12.621</td>\n",
       "      <td>901.000</td>\n",
       "      <td>3.022</td>\n",
       "      <td>...</td>\n",
       "      <td>0.644</td>\n",
       "      <td>9.996</td>\n",
       "      <td>20940.000</td>\n",
       "      <td>3.851</td>\n",
       "      <td>7.136</td>\n",
       "      <td>6.491</td>\n",
       "      <td>4.168</td>\n",
       "      <td>2.024</td>\n",
       "      <td>1.068</td>\n",
       "      <td>1.102</td>\n",
       "    </tr>\n",
       "    <tr>\n",
       "      <th>9</th>\n",
       "      <td>2017</td>\n",
       "      <td>71.597</td>\n",
       "      <td>5.808</td>\n",
       "      <td>30.384</td>\n",
       "      <td>3.675</td>\n",
       "      <td>26.709</td>\n",
       "      <td>17.348</td>\n",
       "      <td>12.279</td>\n",
       "      <td>757.000</td>\n",
       "      <td>2.832</td>\n",
       "      <td>...</td>\n",
       "      <td>0.611</td>\n",
       "      <td>10.423</td>\n",
       "      <td>19.772</td>\n",
       "      <td>3.877</td>\n",
       "      <td>7.088</td>\n",
       "      <td>6.305</td>\n",
       "      <td>4.178</td>\n",
       "      <td>1.997</td>\n",
       "      <td>1.004</td>\n",
       "      <td>1.150</td>\n",
       "    </tr>\n",
       "  </tbody>\n",
       "</table>\n",
       "<p>10 rows × 26 columns</p>\n",
       "</div>"
      ],
      "text/plain": [
       "   Anio  Matrimonios_Cantidad  Divorcios_Cantidad  Victimas_Cantidad  \\\n",
       "0  2008                52.315               2.834             23.721   \n",
       "1  2009                62.104               3.004             31.497   \n",
       "2  2010                73.124               3.645             32.017   \n",
       "3  2011                78.286               4.344             33.484   \n",
       "4  2012                84.253               5.157             36.107   \n",
       "5  2013                80.750               5.542             36.170   \n",
       "6  2014                79.496               5.575             34.330   \n",
       "7  2015                79.177               5.726             31.929   \n",
       "8  2016                69.613               5.665             31.190   \n",
       "9  2017                71.597               5.808             30.384   \n",
       "\n",
       "   Victimas_Hombre  Victimas_Mujer  Vic_Urban  Vic_Rural  Vic_Ign  \\\n",
       "0            2.290          21.431     12.988      8.248    2.485   \n",
       "1            2.985          28.512     16.539     11.816    3.142   \n",
       "2            2.858          29.159     16.427     12.553    3.037   \n",
       "3            2.906          30.578     17.672     13.588    2.224   \n",
       "4            2.967          33.140     19.237     15.074    1.796   \n",
       "5            3.252          32.918     19.365     14.670    2.135   \n",
       "6            3.233          31.097     19.164     14.173  993.000   \n",
       "7            3.221          28.708     18.451     12.608  870.000   \n",
       "8            3.295          27.895     17.668     12.621  901.000   \n",
       "9            3.675          26.709     17.348     12.279  757.000   \n",
       "\n",
       "   Vic_Solteros  ...  Vic_Edu_Ignorado  Vic_Trabaja  Vic_No_Trabaja  \\\n",
       "0         5.470  ...             0.454        8.002          15.557   \n",
       "1         8.144  ...             0.557       10.721          20.583   \n",
       "2         8.918  ...             0.515       10.385          21.361   \n",
       "3         9.441  ...             0.692       10.679          22.536   \n",
       "4        10.725  ...             0.623       11.505          24.347   \n",
       "5        11.658  ...             1.102       11.513          24.362   \n",
       "6         3.151  ...             0.857       10.544          23.530   \n",
       "7         2.883  ...             0.841       10.307          21.405   \n",
       "8         3.022  ...             0.644        9.996       20940.000   \n",
       "9         2.832  ...             0.611       10.423          19.772   \n",
       "\n",
       "   Vic_Hijos_0  Vic_Hijos_1  Vic_Hijos_2  Vic_Hijos_3  Vic_Hijos_4  \\\n",
       "0        1.927        4.867        4.430        3.488        1.945   \n",
       "1        5.392        6.473        5.748        4.597        2.388   \n",
       "2        4.877        6.605        6.028        4.405        2.481   \n",
       "3        3.392        7.194        6.509        4.764        2.579   \n",
       "4        3.229        8.010        7.098        5.102        2.676   \n",
       "5        3.362        8.084        7.259        5.071        2.632   \n",
       "6        3.147        7.902        7.135        4.988        2.448   \n",
       "7        3.535        7.562        6.819        4.536        2.091   \n",
       "8        3.851        7.136        6.491        4.168        2.024   \n",
       "9        3.877        7.088        6.305        4.178        1.997   \n",
       "\n",
       "   Vic_Hijos_5  Vic_Hijos_6+  \n",
       "0        1.036         1.422  \n",
       "1        1.344         1.787  \n",
       "2        1.381         1.651  \n",
       "3        1.469         1.764  \n",
       "4        1.386         1.727  \n",
       "5        1.420         1.578  \n",
       "6        1.298         1.456  \n",
       "7        1.209         1.361  \n",
       "8        1.068         1.102  \n",
       "9        1.004         1.150  \n",
       "\n",
       "[10 rows x 26 columns]"
      ]
     },
     "execution_count": 87,
     "metadata": {},
     "output_type": "execute_result"
    }
   ],
   "source": [
    "db"
   ]
  },
  {
   "cell_type": "code",
   "execution_count": 14,
   "id": "pleasant-slovakia",
   "metadata": {},
   "outputs": [
    {
     "data": {
      "text/plain": [
       "Index(['Anio', 'Matrimonios_Cantidad'], dtype='object')"
      ]
     },
     "execution_count": 14,
     "metadata": {},
     "output_type": "execute_result"
    }
   ],
   "source": [
    "db.columns"
   ]
  },
  {
   "cell_type": "code",
   "execution_count": 43,
   "id": "familiar-validation",
   "metadata": {},
   "outputs": [
    {
     "data": {
      "text/plain": [
       "array([23.721, 31.497, 32.017, 33.484, 36.107, 36.17 , 34.33 , 31.929,\n",
       "       31.19 , 30.384])"
      ]
     },
     "execution_count": 43,
     "metadata": {},
     "output_type": "execute_result"
    }
   ],
   "source": [
    "size = db['Victimas_Cantidad'].to_numpy()\n",
    "size"
   ]
  },
  {
   "cell_type": "code",
   "execution_count": 59,
   "id": "agreed-census",
   "metadata": {},
   "outputs": [
    {
     "data": {
      "image/png": "[encoded data removed]",
      "text/plain": [
       "<Figure size 576x360 with 1 Axes>"
      ]
     },
     "metadata": {
      "needs_background": "light"
     },
     "output_type": "display_data"
    }
   ],
   "source": [
    "plt.figure(figsize=(8,5))\n",
    "plt.scatter(db['Anio'], db['Matrimonios_Cantidad'], s=350, c=size)\n",
    "plt.title('Número de matrimonios contra victimas por año')\n",
    "plt.ylabel('Número de matrimonios')\n",
    "plt.xlabel('Año')\n",
    "plt.axis()\n",
    "plt.show()"
   ]
  },
  {
   "cell_type": "code",
   "execution_count": 35,
   "id": "filled-defendant",
   "metadata": {},
   "outputs": [
    {
     "data": {
      "text/plain": [
       "array([23.721, 31.497, 32.017, 33.484, 36.107, 36.17 , 34.33 , 31.929,\n",
       "       31.19 , 30.384])"
      ]
     },
     "execution_count": 35,
     "metadata": {},
     "output_type": "execute_result"
    }
   ],
   "source": [
    "db['Victimas_Cantidad'].to_numpy()"
   ]
  },
  {
   "cell_type": "code",
   "execution_count": 60,
   "id": "broken-portugal",
   "metadata": {},
   "outputs": [
    {
     "data": {
      "image/png": "[encoded data removed]",
      "text/plain": [
       "<Figure size 576x360 with 1 Axes>"
      ]
     },
     "metadata": {
      "needs_background": "light"
     },
     "output_type": "display_data"
    }
   ],
   "source": [
    "plt.figure(figsize=(8,5))\n",
    "plt.scatter(db['Anio'], db['Divorcios_Cantidad'], s=350, c=size)\n",
    "plt.title('Número de divorcios contra victimas por año')\n",
    "plt.ylabel('Número de divorcios')\n",
    "plt.xlabel('Año')\n",
    "plt.axis()\n",
    "plt.show()"
   ]
  },
  {
   "cell_type": "code",
   "execution_count": 74,
   "id": "expressed-activation",
   "metadata": {},
   "outputs": [
    {
     "data": {
      "text/plain": [
       "<Figure size 1080x720 with 0 Axes>"
      ]
     },
     "metadata": {},
     "output_type": "display_data"
    },
    {
     "data": {
      "image/png": "[encoded data removed]",
      "text/plain": [
       "<Figure size 432x288 with 1 Axes>"
      ]
     },
     "metadata": {
      "needs_background": "light"
     },
     "output_type": "display_data"
    }
   ],
   "source": [
    "plt.figure(figsize=(15,10))\n",
    "x = np.arange(len(db['Anio']))  # the label locations\n",
    "width = 0.35  # the width of the bars\n",
    "\n",
    "fig, ax = plt.subplots()\n",
    "rects1 = ax.bar(x - width/2, db['Victimas_Hombre'], width, label='Hombres')\n",
    "rects2 = ax.bar(x + width/2, db['Victimas_Mujer'], width, label='Mujeres')\n",
    "\n",
    "# Add some text for labels, title and custom x-axis tick labels, etc.\n",
    "ax.set_ylabel('Víctimas (por miles)')\n",
    "ax.set_title('Cantidad de víctimas anuales por sexo')\n",
    "ax.set_xticks(x)\n",
    "ax.set_xticklabels(db['Anio'])\n",
    "ax.legend()\n",
    "\n",
    "fig.tight_layout()\n",
    "\n",
    "plt.show()"
   ]
  },
  {
   "cell_type": "code",
   "execution_count": 76,
   "id": "considerable-treat",
   "metadata": {},
   "outputs": [
    {
     "data": {
      "text/plain": [
       "<Figure size 1080x720 with 0 Axes>"
      ]
     },
     "metadata": {},
     "output_type": "display_data"
    },
    {
     "data": {
      "image/png": "[encoded data removed]",
      "text/plain": [
       "<Figure size 432x288 with 1 Axes>"
      ]
     },
     "metadata": {
      "needs_background": "light"
     },
     "output_type": "display_data"
    }
   ],
   "source": [
    "plt.figure(figsize=(15,10))\n",
    "x = np.arange(len(db['Anio']))  # the label locations\n",
    "width = 0.35  # the width of the bars\n",
    "\n",
    "fig, ax = plt.subplots()\n",
    "rects1 = ax.bar(x - width/2, db['Vic_Urban'], width, label='Urbano')\n",
    "rects2 = ax.bar(x + width/2, db['Vic_Rural'], width, label='Rural')\n",
    "\n",
    "# Add some text for labels, title and custom x-axis tick labels, etc.\n",
    "ax.set_ylabel('Víctimas (por miles)')\n",
    "ax.set_title('Cantidad de víctimas anuales por ambiente')\n",
    "ax.set_xticks(x)\n",
    "ax.set_xticklabels(db['Anio'])\n",
    "ax.legend()\n",
    "\n",
    "fig.tight_layout()\n",
    "\n",
    "plt.show()"
   ]
  },
  {
   "cell_type": "code",
   "execution_count": 78,
   "id": "induced-ghana",
   "metadata": {},
   "outputs": [
    {
     "data": {
      "text/plain": [
       "<Figure size 1080x720 with 0 Axes>"
      ]
     },
     "metadata": {},
     "output_type": "display_data"
    },
    {
     "data": {
      "image/png": "[encoded data removed]",
      "text/plain": [
       "<Figure size 432x288 with 1 Axes>"
      ]
     },
     "metadata": {
      "needs_background": "light"
     },
     "output_type": "display_data"
    }
   ],
   "source": [
    "plt.figure(figsize=(15,10))\n",
    "x = np.arange(len(db['Anio']))  # the label locations\n",
    "width = 0.35  # the width of the bars\n",
    "\n",
    "fig, ax = plt.subplots()\n",
    "rects1 = ax.bar(x - width/2, db['Vic_Solteros'], width, label='Solteros')\n",
    "rects2 = ax.bar(x + width/2, db['Vic_Casados'], width, label='Casados')\n",
    "\n",
    "# Add some text for labels, title and custom x-axis tick labels, etc.\n",
    "ax.set_ylabel('Víctimas (por miles)')\n",
    "ax.set_title('Cantidad de víctimas anuales por estado civil')\n",
    "ax.set_xticks(x)\n",
    "ax.set_xticklabels(db['Anio'])\n",
    "ax.legend()\n",
    "\n",
    "fig.tight_layout()\n",
    "\n",
    "plt.show()"
   ]
  },
  {
   "cell_type": "code",
   "execution_count": 88,
   "id": "looking-whole",
   "metadata": {},
   "outputs": [
    {
     "data": {
      "text/plain": [
       "<Figure size 1440x1080 with 0 Axes>"
      ]
     },
     "metadata": {},
     "output_type": "display_data"
    },
    {
     "data": {
      "image/png": "[encoded data removed]",
      "text/plain": [
       "<Figure size 432x288 with 1 Axes>"
      ]
     },
     "metadata": {
      "needs_background": "light"
     },
     "output_type": "display_data"
    }
   ],
   "source": [
    "plt.figure(figsize=(20,15))\n",
    "x = np.arange(len(db['Anio']))  # the label locations\n",
    "width = 0.35  # the width of the bars\n",
    "\n",
    "fig, ax = plt.subplots()\n",
    "rects1 = ax.bar(x + width, db['Vic_Edu_Ninguno'], width, label='Ninguno')\n",
    "rects2 = ax.bar(x + width*2, db['Vic_Edu_Primaria'], width, label='Primaria')\n",
    "rects3 = ax.bar(x + width*3, db['Vic_Edu_Básico'], width, label='Básicos')\n",
    "rects4 = ax.bar(x + width*4, db['Vic_Edu_Diversificado'], width, label='Diversificado')\n",
    "rects5 = ax.bar(x + width*5, db['Vic_Edu_Universitario'], width, label='Universitario')\n",
    "rects6 = ax.bar(x + width*6, db['Vic_Edu_Ignorado'], width, label='Ignorado')\n",
    "\n",
    "# Add some text for labels, title and custom x-axis tick labels, etc.\n",
    "ax.set_ylabel('Víctimas (por miles)')\n",
    "ax.set_title('Cantidad de víctimas anuales por estado civil')\n",
    "ax.set_xticks(x)\n",
    "ax.set_xticklabels(db['Anio'])\n",
    "ax.legend()\n",
    "\n",
    "plt.show()"
   ]
  },
  {
   "cell_type": "code",
   "execution_count": null,
   "id": "nearby-enemy",
   "metadata": {},
   "outputs": [],
   "source": []
  }
 ],
 "metadata": {
  "kernelspec": {
   "display_name": "Python 3",
   "language": "python",
   "name": "python3"
  },
  "language_info": {
   "codemirror_mode": {
    "name": "ipython",
    "version": 3
   },
   "file_extension": ".py",
   "mimetype": "text/x-python",
   "name": "python",
   "nbconvert_exporter": "python",
   "pygments_lexer": "ipython3",
   "version": "3.8.1"
  }
 },
 "nbformat": 4,
 "nbformat_minor": 5
}
